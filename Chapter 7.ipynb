{
 "cells": [
  {
   "cell_type": "markdown",
   "metadata": {},
   "source": [
    "40. A can of sardines is made to move along an <code>x</code> axis from <code>x = 0.25 m</code> to <code>x = 1.25 m </code> by a force with a magnitude given by <code>F = exp(−4x2)</code>, with <code>x</code> in meters and <code>F</code> in newtons. (Here exp is the exponential function.) How much work is done on the can by the force?"
   ]
  },
  {
   "cell_type": "code",
   "execution_count": 1,
   "metadata": {},
   "outputs": [],
   "source": [
    "import numpy as np\n",
    "import pandas as pd\n",
    "import matplotlib.pyplot as plt\n",
    "\n",
    "from IPython.display import display, Math, Latex\n",
    "from sympy import symbols, exp, integrate, oo, simplify\n",
    "import sympy as sp\n",
    "\n",
    "plt.rcParams['text.usetex'] = True\n",
    "\n",
    "plt.style.use('seaborn-v0_8')"
   ]
  },
  {
   "cell_type": "markdown",
   "metadata": {},
   "source": [
    "1. With Integrate of sympy (Recommended)"
   ]
  },
  {
   "cell_type": "code",
   "execution_count": 2,
   "metadata": {},
   "outputs": [
    {
     "data": {
      "text/latex": [
       "$\\displaystyle 0.119773292542377 \\sqrt{\\pi}$"
      ],
      "text/plain": [
       "0.119773292542377*sqrt(pi)"
      ]
     },
     "metadata": {},
     "output_type": "display_data"
    },
    {
     "name": "stdout",
     "output_type": "stream",
     "text": [
      "0.212292633602369 J\n"
     ]
    }
   ],
   "source": [
    "x = sp.symbols('x')\n",
    "func = sp.exp(-4 * x**2)\n",
    "\n",
    "integral = sp.integrate(func, (x, 0.25, 1.25))\n",
    "display(simplify(integral))\n",
    "\n",
    "integral_numeric = integral.evalf()\n",
    "print(f'{integral_numeric} J')"
   ]
  },
  {
   "cell_type": "code",
   "execution_count": 4,
   "metadata": {},
   "outputs": [
    {
     "data": {
      "image/png": "[encoded data removed]",
      "text/plain": [
       "<Figure size 800x550 with 1 Axes>"
      ]
     },
     "metadata": {},
     "output_type": "display_data"
    }
   ],
   "source": [
    "x = np.linspace(0.25, 1.25, 50000)\n",
    "\n",
    "delta_x = x[1] - x[0]\n",
    "\n",
    "data = pd.DataFrame({\n",
    "    'x': x,\n",
    "    'delta_x': [delta_x] * len(x),\n",
    "    'f(x)': np.exp(-2*x**2)\n",
    "    })\n",
    "\n",
    "plt.figure(dpi=100)\n",
    "plt.plot(x, np.exp(-2*x**2), color='green')\n",
    "plt.grid(True)\n",
    "plt.xlabel(r'$x$')\n",
    "plt.ylabel(r'$f(x)$')\n",
    "plt.title(rf'$W: f(x) = \\exp(-2x^2) \\ ; (W: {integral_numeric:.3f} J)$')\n",
    "plt.show()"
   ]
  },
  {
   "cell_type": "code",
   "execution_count": 5,
   "metadata": {},
   "outputs": [
    {
     "name": "stdout",
     "output_type": "stream",
     "text": [
      "W: 0.3789210623825921 J ~ 0.379 J\n"
     ]
    },
    {
     "data": {
      "application/vnd.microsoft.datawrangler.viewer.v0+json": {
       "columns": [
        {
         "name": "index",
         "rawType": "int64",
         "type": "integer"
        },
        {
         "name": "x",
         "rawType": "float64",
         "type": "float"
        },
        {
         "name": "delta_x",
         "rawType": "float64",
         "type": "float"
        },
        {
         "name": "f(x)",
         "rawType": "float64",
         "type": "float"
        }
       ],
       "conversionMethod": "pd.DataFrame",
       "ref": "b3aa9ebd-dde4-40b5-9f21-a188969d8936",
       "rows": [
        [
         "0",
         "0.25",
         "2.0000400007991193e-05",
         "0.8824969025845955"
        ],
        [
         "1",
         "0.250020000400008",
         "2.0000400007991193e-05",
         "0.8824792517640315"
        ],
        [
         "2",
         "0.250040000800016",
         "2.0000400007991193e-05",
         "0.8824615998845067"
        ],
        [
         "3",
         "0.250060001200024",
         "2.0000400007991193e-05",
         "0.8824439469460985"
        ],
        [
         "4",
         "0.250080001600032",
         "2.0000400007991193e-05",
         "0.8824262929488846"
        ],
        [
         "5",
         "0.25010000200004",
         "2.0000400007991193e-05",
         "0.8824086378929429"
        ],
        [
         "6",
         "0.250120002400048",
         "2.0000400007991193e-05",
         "0.8823909817783508"
        ],
        [
         "7",
         "0.250140002800056",
         "2.0000400007991193e-05",
         "0.8823733246051862"
        ],
        [
         "8",
         "0.250160003200064",
         "2.0000400007991193e-05",
         "0.8823556663735267"
        ],
        [
         "9",
         "0.250180003600072",
         "2.0000400007991193e-05",
         "0.8823380070834499"
        ],
        [
         "10",
         "0.25020000400008",
         "2.0000400007991193e-05",
         "0.8823203467350336"
        ],
        [
         "11",
         "0.250220004400088",
         "2.0000400007991193e-05",
         "0.8823026853283554"
        ],
        [
         "12",
         "0.250240004800096",
         "2.0000400007991193e-05",
         "0.8822850228634933"
        ],
        [
         "13",
         "0.250260005200104",
         "2.0000400007991193e-05",
         "0.8822673593405246"
        ],
        [
         "14",
         "0.250280005600112",
         "2.0000400007991193e-05",
         "0.8822496947595273"
        ],
        [
         "15",
         "0.25030000600012",
         "2.0000400007991193e-05",
         "0.8822320291205789"
        ],
        [
         "16",
         "0.250320006400128",
         "2.0000400007991193e-05",
         "0.8822143624237573"
        ],
        [
         "17",
         "0.250340006800136",
         "2.0000400007991193e-05",
         "0.8821966946691401"
        ],
        [
         "18",
         "0.250360007200144",
         "2.0000400007991193e-05",
         "0.882179025856805"
        ],
        [
         "19",
         "0.250380007600152",
         "2.0000400007991193e-05",
         "0.8821613559868299"
        ],
        [
         "20",
         "0.25040000800016",
         "2.0000400007991193e-05",
         "0.8821436850592923"
        ],
        [
         "21",
         "0.250420008400168",
         "2.0000400007991193e-05",
         "0.8821260130742702"
        ],
        [
         "22",
         "0.25044000880017603",
         "2.0000400007991193e-05",
         "0.882108340031841"
        ],
        [
         "23",
         "0.250460009200184",
         "2.0000400007991193e-05",
         "0.8820906659320827"
        ],
        [
         "24",
         "0.250480009600192",
         "2.0000400007991193e-05",
         "0.8820729907750731"
        ],
        [
         "25",
         "0.2505000100002",
         "2.0000400007991193e-05",
         "0.8820553145608897"
        ],
        [
         "26",
         "0.250520010400208",
         "2.0000400007991193e-05",
         "0.8820376372896104"
        ],
        [
         "27",
         "0.250540010800216",
         "2.0000400007991193e-05",
         "0.8820199589613129"
        ],
        [
         "28",
         "0.25056001120022403",
         "2.0000400007991193e-05",
         "0.8820022795760749"
        ],
        [
         "29",
         "0.250580011600232",
         "2.0000400007991193e-05",
         "0.8819845991339743"
        ],
        [
         "30",
         "0.25060001200024",
         "2.0000400007991193e-05",
         "0.8819669176350888"
        ],
        [
         "31",
         "0.250620012400248",
         "2.0000400007991193e-05",
         "0.8819492350794963"
        ],
        [
         "32",
         "0.250640012800256",
         "2.0000400007991193e-05",
         "0.8819315514672743"
        ],
        [
         "33",
         "0.250660013200264",
         "2.0000400007991193e-05",
         "0.8819138667985008"
        ],
        [
         "34",
         "0.250680013600272",
         "2.0000400007991193e-05",
         "0.8818961810732535"
        ],
        [
         "35",
         "0.25070001400028",
         "2.0000400007991193e-05",
         "0.8818784942916101"
        ],
        [
         "36",
         "0.250720014400288",
         "2.0000400007991193e-05",
         "0.8818608064536485"
        ],
        [
         "37",
         "0.250740014800296",
         "2.0000400007991193e-05",
         "0.8818431175594466"
        ],
        [
         "38",
         "0.250760015200304",
         "2.0000400007991193e-05",
         "0.8818254276090818"
        ],
        [
         "39",
         "0.250780015600312",
         "2.0000400007991193e-05",
         "0.8818077366026323"
        ],
        [
         "40",
         "0.25080001600032",
         "2.0000400007991193e-05",
         "0.8817900445401757"
        ],
        [
         "41",
         "0.250820016400328",
         "2.0000400007991193e-05",
         "0.8817723514217899"
        ],
        [
         "42",
         "0.250840016800336",
         "2.0000400007991193e-05",
         "0.8817546572475525"
        ],
        [
         "43",
         "0.250860017200344",
         "2.0000400007991193e-05",
         "0.8817369620175417"
        ],
        [
         "44",
         "0.250880017600352",
         "2.0000400007991193e-05",
         "0.881719265731835"
        ],
        [
         "45",
         "0.25090001800036",
         "2.0000400007991193e-05",
         "0.8817015683905103"
        ],
        [
         "46",
         "0.250920018400368",
         "2.0000400007991193e-05",
         "0.8816838699936453"
        ],
        [
         "47",
         "0.25094001880037603",
         "2.0000400007991193e-05",
         "0.881666170541318"
        ],
        [
         "48",
         "0.250960019200384",
         "2.0000400007991193e-05",
         "0.8816484700336062"
        ],
        [
         "49",
         "0.250980019600392",
         "2.0000400007991193e-05",
         "0.8816307684705877"
        ]
       ],
       "shape": {
        "columns": 3,
        "rows": 50000
       }
      },
      "text/html": [
       "<div>\n",
       "<style scoped>\n",
       "    .dataframe tbody tr th:only-of-type {\n",
       "        vertical-align: middle;\n",
       "    }\n",
       "\n",
       "    .dataframe tbody tr th {\n",
       "        vertical-align: top;\n",
       "    }\n",
       "\n",
       "    .dataframe thead th {\n",
       "        text-align: right;\n",
       "    }\n",
       "</style>\n",
       "<table border=\"1\" class=\"dataframe\">\n",
       "  <thead>\n",
       "    <tr style=\"text-align: right;\">\n",
       "      <th></th>\n",
       "      <th>x</th>\n",
       "      <th>delta_x</th>\n",
       "      <th>f(x)</th>\n",
       "    </tr>\n",
       "  </thead>\n",
       "  <tbody>\n",
       "    <tr>\n",
       "      <th>0</th>\n",
       "      <td>0.25000</td>\n",
       "      <td>0.00002</td>\n",
       "      <td>0.882497</td>\n",
       "    </tr>\n",
       "    <tr>\n",
       "      <th>1</th>\n",
       "      <td>0.25002</td>\n",
       "      <td>0.00002</td>\n",
       "      <td>0.882479</td>\n",
       "    </tr>\n",
       "    <tr>\n",
       "      <th>2</th>\n",
       "      <td>0.25004</td>\n",
       "      <td>0.00002</td>\n",
       "      <td>0.882462</td>\n",
       "    </tr>\n",
       "    <tr>\n",
       "      <th>3</th>\n",
       "      <td>0.25006</td>\n",
       "      <td>0.00002</td>\n",
       "      <td>0.882444</td>\n",
       "    </tr>\n",
       "    <tr>\n",
       "      <th>4</th>\n",
       "      <td>0.25008</td>\n",
       "      <td>0.00002</td>\n",
       "      <td>0.882426</td>\n",
       "    </tr>\n",
       "    <tr>\n",
       "      <th>...</th>\n",
       "      <td>...</td>\n",
       "      <td>...</td>\n",
       "      <td>...</td>\n",
       "    </tr>\n",
       "    <tr>\n",
       "      <th>49995</th>\n",
       "      <td>1.24992</td>\n",
       "      <td>0.00002</td>\n",
       "      <td>0.043955</td>\n",
       "    </tr>\n",
       "    <tr>\n",
       "      <th>49996</th>\n",
       "      <td>1.24994</td>\n",
       "      <td>0.00002</td>\n",
       "      <td>0.043950</td>\n",
       "    </tr>\n",
       "    <tr>\n",
       "      <th>49997</th>\n",
       "      <td>1.24996</td>\n",
       "      <td>0.00002</td>\n",
       "      <td>0.043946</td>\n",
       "    </tr>\n",
       "    <tr>\n",
       "      <th>49998</th>\n",
       "      <td>1.24998</td>\n",
       "      <td>0.00002</td>\n",
       "      <td>0.043941</td>\n",
       "    </tr>\n",
       "    <tr>\n",
       "      <th>49999</th>\n",
       "      <td>1.25000</td>\n",
       "      <td>0.00002</td>\n",
       "      <td>0.043937</td>\n",
       "    </tr>\n",
       "  </tbody>\n",
       "</table>\n",
       "<p>50000 rows × 3 columns</p>\n",
       "</div>"
      ],
      "text/plain": [
       "             x  delta_x      f(x)\n",
       "0      0.25000  0.00002  0.882497\n",
       "1      0.25002  0.00002  0.882479\n",
       "2      0.25004  0.00002  0.882462\n",
       "3      0.25006  0.00002  0.882444\n",
       "4      0.25008  0.00002  0.882426\n",
       "...        ...      ...       ...\n",
       "49995  1.24992  0.00002  0.043955\n",
       "49996  1.24994  0.00002  0.043950\n",
       "49997  1.24996  0.00002  0.043946\n",
       "49998  1.24998  0.00002  0.043941\n",
       "49999  1.25000  0.00002  0.043937\n",
       "\n",
       "[50000 rows x 3 columns]"
      ]
     },
     "execution_count": 5,
     "metadata": {},
     "output_type": "execute_result"
    }
   ],
   "source": [
    "print(f'W: {np.sum(data['f(x)']*data['delta_x'])} J ~ {np.sum(data['f(x)']*data['delta_x']) :.3f} J')\n",
    "data"
   ]
  },
  {
   "cell_type": "markdown",
   "metadata": {},
   "source": [
    "Export 5000 Data to csv file"
   ]
  },
  {
   "cell_type": "code",
   "execution_count": null,
   "metadata": {},
   "outputs": [],
   "source": [
    "data.to_csv('5000_data.csv', index=False)"
   ]
  }
 ],
 "metadata": {
  "kernelspec": {
   "display_name": "base",
   "language": "python",
   "name": "python3"
  },
  "language_info": {
   "codemirror_mode": {
    "name": "ipython",
    "version": 3
   },
   "file_extension": ".py",
   "mimetype": "text/x-python",
   "name": "python",
   "nbconvert_exporter": "python",
   "pygments_lexer": "ipython3",
   "version": "3.12.7"
  }
 },
 "nbformat": 4,
 "nbformat_minor": 2
}
